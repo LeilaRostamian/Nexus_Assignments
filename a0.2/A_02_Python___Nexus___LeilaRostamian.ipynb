{
  "nbformat": 4,
  "nbformat_minor": 0,
  "metadata": {
    "colab": {
      "provenance": []
    },
    "kernelspec": {
      "name": "python3",
      "display_name": "Python 3"
    },
    "language_info": {
      "name": "python"
    }
  },
  "cells": [
    {
      "cell_type": "markdown",
      "source": [
        "# 📚 Assignment 2 — NumPy, pandas & Matplotlib Essentials\n",
        "Welcome to your first data-science sprint! In this three-part mini-project you’ll touch the libraries every ML practitioner leans on daily:\n",
        "\n",
        "1. NumPy — fast n-dimensional arrays\n",
        "\n",
        "2. pandas — tabular data wrangling\n",
        "\n",
        "3. Matplotlib — quick, customizable plots\n",
        "\n",
        "Each part starts with “Quick-start notes”, then gives you two bite-sized tasks. Replace every # TODO with working Python in a notebook or script, run it, and check your results. Happy hacking! 😊\n"
      ],
      "metadata": {
        "id": "ZS5lje_18xC2"
      }
    },
    {
      "cell_type": "markdown",
      "source": [
        "## 1 · NumPy 🧮\n",
        "Quick-start notes\n",
        "Core object: ndarray (n-dimensional array)\n",
        "\n",
        "Create data: np.array, np.arange, np.random.*\n",
        "\n",
        "Summaries: mean, std, sum, max, …\n",
        "\n",
        "Vectorised math beats Python loops for speed\n",
        "\n"
      ],
      "metadata": {
        "id": "u5vvtK-6840I"
      }
    },
    {
      "cell_type": "markdown",
      "source": [
        "### Task 1 — Mock temperatures\n",
        "\n"
      ],
      "metadata": {
        "id": "UyNHtkGm9OgH"
      }
    },
    {
      "cell_type": "code",
      "execution_count": null,
      "metadata": {
        "id": "lmaiboJe8E15",
        "outputId": "5118fd44-61db-4a4e-fe14-76e0731f1406",
        "colab": {
          "base_uri": "https://localhost:8080/"
        }
      },
      "outputs": [
        {
          "output_type": "stream",
          "name": "stdout",
          "text": [
            "[12.25 16.21 24.75 21.25  6.42 20.65  9.59 20.6  22.21 18.75]\n"
          ]
        }
      ],
      "source": [
        "# 👉 # TODO: import numpy and create an array of 365\n",
        "# normally-distributed °C values (µ=20, σ=5) called temps\n",
        "import numpy as np\n",
        "temps = np.random.normal(loc=20, scale=5, size=365)\n",
        "print(np.round(temps[:10],2))"
      ]
    },
    {
      "cell_type": "markdown",
      "source": [
        "### Task 2 — Average temperature\n"
      ],
      "metadata": {
        "id": "BtsB8QKM9Xs_"
      }
    },
    {
      "cell_type": "code",
      "source": [
        "# 👉 # TODO: print the mean of temps\n",
        "import numpy as np\n",
        "temps = np.random.normal(loc=20, scale=5, size=365)\n",
        "mean_temps = np.mean(temps)\n",
        "print(f'mean temprature is: {mean_temps:.2f}')\n"
      ],
      "metadata": {
        "id": "DSR8aS-F9Z10",
        "outputId": "11254aa9-9913-40df-cff4-5557befdc38d",
        "colab": {
          "base_uri": "https://localhost:8080/"
        }
      },
      "execution_count": null,
      "outputs": [
        {
          "output_type": "stream",
          "name": "stdout",
          "text": [
            "mean temprature is: 20.12\n"
          ]
        }
      ]
    },
    {
      "cell_type": "markdown",
      "source": [
        "## 2 · pandas 📊\n",
        "Quick-start notes\n",
        "Main structures: DataFrame, Series\n",
        "\n",
        "Read data: pd.read_csv, pd.read_excel, …\n",
        "\n",
        "Selection: .loc[label], .iloc[pos]\n",
        "\n",
        "Group & summarise: .groupby(...).agg(...)\n",
        "\n"
      ],
      "metadata": {
        "id": "8JjHX4wy9dPz"
      }
    },
    {
      "cell_type": "markdown",
      "source": [
        "### Task 3 — Load ride log\n"
      ],
      "metadata": {
        "id": "wRyJyhbt9uUr"
      }
    },
    {
      "cell_type": "code",
      "source": [
        "# 👉 # TODO: read \"rides.csv\" into df\n",
        "# (columns: date,temp,rides,weekday)\n",
        "from google.colab import files\n",
        "import pandas as pd\n",
        "import numpy as np\n",
        "n=365\n",
        "# تولید تاریخ‌ها بین این دو تاریخ\n",
        "dates = pd.date_range(start=\"2022-06-01\", end=\"2025-06-01\", periods=n)\n",
        "\n",
        "# size = len(dates) = n\n",
        "# تولید داده‌های تصادفی برای هر روز\n",
        "data = {\n",
        "    \"date\": dates,\n",
        "    \"temp\": np.random.normal(loc=20, scale=3, size=n).round(1),  # دما به صورت نرمال\n",
        "    \"rides\": np.random.randint(100, 161, size=n),               # تعداد سفرها\n",
        "}\n",
        "# استخراج نام روز هفته\n",
        "data[\"weekday\"] = pd.Series(dates).dt.day_name().str[:3]\n",
        "\n",
        "# ساخت دیتافریم\n",
        "df = pd.DataFrame(data)\n",
        "\n",
        "# Save DataFrame to CSV file\n",
        "df.to_csv('rides.csv', index=True)  # index=False برای حذف شماره ردیف‌ها در فایل\n",
        "\n",
        "# دانلود فایل به کامپیوتر شما\n",
        "files.download('rides.csv')\n",
        "\n",
        "print(\"Data saved to rides.csv\")\n",
        "print(df.head())"
      ],
      "metadata": {
        "id": "1J4jcLct9yVO",
        "outputId": "3a4cd214-d1ab-4c9f-91e8-f9bafc8743d2",
        "colab": {
          "base_uri": "https://localhost:8080/",
          "height": 144
        }
      },
      "execution_count": null,
      "outputs": [
        {
          "output_type": "display_data",
          "data": {
            "text/plain": [
              "<IPython.core.display.Javascript object>"
            ],
            "application/javascript": [
              "\n",
              "    async function download(id, filename, size) {\n",
              "      if (!google.colab.kernel.accessAllowed) {\n",
              "        return;\n",
              "      }\n",
              "      const div = document.createElement('div');\n",
              "      const label = document.createElement('label');\n",
              "      label.textContent = `Downloading \"${filename}\": `;\n",
              "      div.appendChild(label);\n",
              "      const progress = document.createElement('progress');\n",
              "      progress.max = size;\n",
              "      div.appendChild(progress);\n",
              "      document.body.appendChild(div);\n",
              "\n",
              "      const buffers = [];\n",
              "      let downloaded = 0;\n",
              "\n",
              "      const channel = await google.colab.kernel.comms.open(id);\n",
              "      // Send a message to notify the kernel that we're ready.\n",
              "      channel.send({})\n",
              "\n",
              "      for await (const message of channel.messages) {\n",
              "        // Send a message to notify the kernel that we're ready.\n",
              "        channel.send({})\n",
              "        if (message.buffers) {\n",
              "          for (const buffer of message.buffers) {\n",
              "            buffers.push(buffer);\n",
              "            downloaded += buffer.byteLength;\n",
              "            progress.value = downloaded;\n",
              "          }\n",
              "        }\n",
              "      }\n",
              "      const blob = new Blob(buffers, {type: 'application/binary'});\n",
              "      const a = document.createElement('a');\n",
              "      a.href = window.URL.createObjectURL(blob);\n",
              "      a.download = filename;\n",
              "      div.appendChild(a);\n",
              "      a.click();\n",
              "      div.remove();\n",
              "    }\n",
              "  "
            ]
          },
          "metadata": {}
        },
        {
          "output_type": "display_data",
          "data": {
            "text/plain": [
              "<IPython.core.display.Javascript object>"
            ],
            "application/javascript": [
              "download(\"download_3b0c6443-26d8-4878-924f-66249a9637d3\", \"rides.csv\", 17070)"
            ]
          },
          "metadata": {}
        },
        {
          "output_type": "stream",
          "name": "stdout",
          "text": [
            "Data saved to rides.csv\n",
            "                           date  temp  rides weekday\n",
            "0 2022-06-01 00:00:00.000000000  16.4    101     Wed\n",
            "1 2022-06-04 00:15:49.450549450  17.9    104     Sat\n",
            "2 2022-06-07 00:31:38.901098901  18.5    100     Tue\n",
            "3 2022-06-10 00:47:28.351648351  21.5    134     Fri\n",
            "4 2022-06-13 01:03:17.802197802  20.6    131     Mon\n"
          ]
        }
      ]
    },
    {
      "cell_type": "code",
      "source": [
        "# 👉 # TODO: read \"rides.csv\" into df\n",
        "# (columns: date,temp,rides,weekday)\n",
        "import pandas as pd\n",
        "df = pd.read_csv('rides.csv')\n",
        "print(df.head())"
      ],
      "metadata": {
        "colab": {
          "base_uri": "https://localhost:8080/"
        },
        "id": "WrF6I-Gr55g_",
        "outputId": "b9b883ce-a99c-49a2-9266-182f70caeeb5"
      },
      "execution_count": null,
      "outputs": [
        {
          "output_type": "stream",
          "name": "stdout",
          "text": [
            "   Unnamed: 0                           date  temp  rides weekday\n",
            "0           0  2022-06-01 00:00:00.000000000  16.4    101     Wed\n",
            "1           1  2022-06-04 00:15:49.450549450  17.9    104     Sat\n",
            "2           2  2022-06-07 00:31:38.901098901  18.5    100     Tue\n",
            "3           3  2022-06-10 00:47:28.351648351  21.5    134     Fri\n",
            "4           4  2022-06-13 01:03:17.802197802  20.6    131     Mon\n"
          ]
        }
      ]
    },
    {
      "cell_type": "markdown",
      "source": [
        "### Task 4 — Weekday averages"
      ],
      "metadata": {
        "id": "byKd8SFK9w2y"
      }
    },
    {
      "cell_type": "code",
      "source": [
        "# 👉 # TODO: compute and print mean rides per weekday\n",
        "\n",
        "import pandas as pd\n",
        "\n",
        "df = pd.read_csv('rides.csv')\n",
        "# ترتیب دلخواه روزهای هفته\n",
        "weekday_order = [\"Mon\", \"Tue\", \"Wed\", \"Thu\", \"Fri\", \"Sat\", \"Sun\"]\n",
        "\n",
        "# گرفتن میانگین به ازای هر روز هفته\n",
        "mean_rides_per_weekday = df.groupby(\"weekday\")[\"rides\"].mean()\n",
        "\n",
        "# نشان دادن میانیگن سوارها به ازای هر روز هفته به ترتیب دلخواه\n",
        "print(f'mean rides per weekday:{mean_rides_per_weekday.reindex(weekday_order)}')"
      ],
      "metadata": {
        "id": "4rLrxkPj90p3",
        "colab": {
          "base_uri": "https://localhost:8080/"
        },
        "outputId": "162b449f-ba25-4df3-c35b-02a602790082"
      },
      "execution_count": null,
      "outputs": [
        {
          "output_type": "stream",
          "name": "stdout",
          "text": [
            "mean rides per weekday:weekday\n",
            "Mon    132.576923\n",
            "Tue    128.942308\n",
            "Wed    129.153846\n",
            "Thu    134.461538\n",
            "Fri    133.711538\n",
            "Sat    132.250000\n",
            "Sun    128.377358\n",
            "Name: rides, dtype: float64\n"
          ]
        }
      ]
    },
    {
      "cell_type": "markdown",
      "source": [
        "## 3 · Matplotlib 📈\n",
        "Quick-start notes\n",
        "Workhorse: pyplot interface (import matplotlib.pyplot as plt)\n",
        "\n",
        "Figure & axes: fig, ax = plt.subplots()\n",
        "\n",
        "Common plots: plot, scatter, hist, imshow\n",
        "\n",
        "Display inline in Jupyter with %matplotlib inline or %matplotlib notebook"
      ],
      "metadata": {
        "id": "gbGMbtLf94M4"
      }
    },
    {
      "cell_type": "markdown",
      "source": [
        "### Task 5 — Scatter plot"
      ],
      "metadata": {
        "id": "QOsToPh2-AnZ"
      }
    },
    {
      "cell_type": "code",
      "source": [
        "# 👉 # TODO: scatter-plot temperature (x) vs rides (y) from df\n",
        "import matplotlib.pyplot as plt\n",
        "import pandas as pd\n",
        "# Draw a scatter plot\n",
        "df = pd.read_csv('rides.csv')\n",
        "plt.scatter(df[\"temp\"], df[\"rides\"])\n",
        "plt.xlabel(\"Temperature (°C)\")\n",
        "plt.ylabel(\"Number of Rides\")\n",
        "plt.title(\"Scatter Plot of Temperature vs. Rides\")\n",
        "plt.grid(True)\n",
        "plt.show()"
      ],
      "metadata": {
        "id": "_pCU2mIH-DAi",
        "colab": {
          "base_uri": "https://localhost:8080/",
          "height": 472
        },
        "outputId": "c648ae56-5a70-4b87-b89f-021dce5c8e98"
      },
      "execution_count": null,
      "outputs": [
        {
          "output_type": "display_data",
          "data": {
            "text/plain": [
              "<Figure size 640x480 with 1 Axes>"
            ],
            "image/png": "[encoded data removed]"
          },
          "metadata": {}
        }
      ]
    },
    {
      "cell_type": "markdown",
      "source": [
        "### Task 6 — Show the figure\n",
        "\n"
      ],
      "metadata": {
        "id": "TBGXIzVV-E5u"
      }
    },
    {
      "cell_type": "code",
      "source": [
        "# 👉 # TODO: call plt.show() so the plot appears\n",
        "import matplotlib.pyplot as plt\n",
        "import pandas as pd\n",
        "# Draw a scatter plot\n",
        "df = pd.read_csv('rides.csv')\n",
        "plt.scatter(df[\"temp\"], df[\"rides\"])\n",
        "plt.xlabel(\"Temperature (°C)\")\n",
        "plt.ylabel(\"Number of Rides\")\n",
        "plt.title(\"Scatter Plot of Temperature vs. Rides\")\n",
        "plt.grid(True)\n",
        "plt.show()"
      ],
      "metadata": {
        "id": "ycvsNyqh-GRM"
      },
      "execution_count": null,
      "outputs": []
    }
  ]
}