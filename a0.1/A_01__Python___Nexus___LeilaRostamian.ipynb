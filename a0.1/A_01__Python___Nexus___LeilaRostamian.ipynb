{
  "cells": [
    {
      "cell_type": "markdown",
      "metadata": {
        "id": "ZS5lje_18xC2"
      },
      "source": [
        "# 📚 Assignment 1 — Python Fundamentals\n",
        "Welcome to your first hands-on practice! This set of four mini-projects walks you through the basics every Python (and ML) developer leans on daily:\n",
        "\n",
        "1. Variable types\n",
        "\n",
        "2. Core containers\n",
        "\n",
        "3. Functions\n",
        "\n",
        "4. Classes\n",
        "\n",
        "Each part begins with quick pointers, then gives you two bite-sized tasks to code. Replace every # TODO with working Python and run your script or notebook to check the result. Happy hacking! 😊"
      ]
    },
    {
      "cell_type": "markdown",
      "metadata": {
        "id": "u5vvtK-6840I"
      },
      "source": [
        "## 1. Variable Types 🧮\n",
        "**Quick-start notes**\n",
        "\n",
        "* Primitive types: `int`, `float`, `str`, `bool`\n",
        "\n",
        "* Use `type(obj)` to inspect an object’s type.\n",
        "\n",
        "* Casting ↔ converting: `int(\"3\")`, `str(3.14)`, `bool(0)`, etc."
      ]
    },
    {
      "cell_type": "markdown",
      "metadata": {
        "id": "UyNHtkGm9OgH"
      },
      "source": [
        "### Task 1 — Celsius → Fahrenheit\n",
        "\n"
      ]
    },
    {
      "cell_type": "code",
      "execution_count": 2,
      "metadata": {
        "colab": {
          "base_uri": "https://localhost:8080/"
        },
        "id": "lmaiboJe8E15",
        "outputId": "346d0281-a73b-4ef8-beb0-5af906fab039"
      },
      "outputs": [
        {
          "name": "stdout",
          "output_type": "stream",
          "text": [
            "Enter a Celsius temperature: 25\n",
            "The temperature is 77 °F\n"
          ]
        }
      ],
      "source": [
        "# 👉 a Celsius temperature (as text), convert it to float,\n",
        "#    compute Fahrenheit (°F = °C * 9/5 + 32) and print a nicely formatted line.\n",
        "# TODO: your code here\n",
        "\n",
        "# get a Celsius temperature (as text)\n",
        "temperature_text = input ('Enter a Celsius temperature: ')\n",
        "# convert it to float\n",
        "Celsius_temperature = float (temperature_text)\n",
        "# compute Fahrenheit\n",
        "Fahrenheit_tempreture = Celsius_temperature * 9/5 + 32\n",
        "print(\"The temperature is %d °F\" % (Fahrenheit_tempreture))\n"
      ]
    },
    {
      "cell_type": "markdown",
      "metadata": {
        "id": "BtsB8QKM9Xs_"
      },
      "source": [
        "### Task 2 — Tiny Calculator\n"
      ]
    },
    {
      "cell_type": "code",
      "execution_count": 19,
      "metadata": {
        "colab": {
          "base_uri": "https://localhost:8080/"
        },
        "id": "DSR8aS-F9Z10",
        "outputId": "fdfd283e-0c4b-4ecf-91c6-f5e11a742681"
      },
      "outputs": [
        {
          "name": "stdout",
          "output_type": "stream",
          "text": [
            "Enter an integer number: 5\n",
            "Enter a float number: 3.5\n",
            " their sum is 8.50 \n",
            " their difference is 1.500 \n",
            " their product is 17.50 \n",
            " their true division is 1.429 \n",
            " their floor division is 1.0 \n",
            "their floor division is 1.00\n"
          ]
        }
      ],
      "source": [
        "# Store two numbers of **different types** (one int, one float),\n",
        "# then print their sum, difference, product, true division, and floor division.\n",
        "# TODO: your code here\n",
        "\n",
        "# Store two numbers of **different types** (one int, one float),\n",
        "num1 = input (\"Enter an integer number: \")\n",
        "num2 = input (\"Enter a float number: \")\n",
        "num1 = int (num1)\n",
        "num2 = float (num2)\n",
        "\n",
        "# then print their sum,\n",
        "print (\" their sum is %.2f \" % (num1+num2))\n",
        "\n",
        "# then print their difference,\n",
        "print (\" their difference is %.3f \" % (max(num1-num2,num2-num1)))\n",
        "\n",
        "#then print their product, true division, and floor division\n",
        "print (\" their product is %.2f \" % (num1*num2))\n",
        "print (\" their true division is %.3f \" % (num1/num2))\n",
        "print (\" their floor division is %.1f \" % (num1//num2))\n",
        "print (f\"their floor division is {num1//num2:.2f}\")"
      ]
    },
    {
      "cell_type": "markdown",
      "metadata": {
        "id": "wRyJyhbt9uUr"
      },
      "source": [
        "### Task 1 — Grocery Basket\n",
        "\n"
      ]
    },
    {
      "cell_type": "code",
      "execution_count": 18,
      "metadata": {
        "colab": {
          "base_uri": "https://localhost:8080/"
        },
        "id": "1J4jcLct9yVO",
        "outputId": "8877005f-2b45-47bf-fc8c-d98b3bee2fbc"
      },
      "outputs": [
        {
          "name": "stdout",
          "output_type": "stream",
          "text": [
            "Enter at least 4 items supplied (comma-separated):milk, eggs, bread, apples, butter\n",
            "the third item: bread\n"
          ]
        }
      ],
      "source": [
        "# Start with an empty shopping list (list).\n",
        "# 1. Append at least 4 items supplied in one line of user input (comma-separated).\n",
        "# 2. Convert the list to a *tuple* called immutable_basket.\n",
        "# 3. Print the third item using tuple indexing.\n",
        "# TODO: your code here\n",
        "\n",
        "# Start with an empty shopping list (list).\n",
        "shopping_list = []\n",
        "\n",
        "# 1. Append at least 4 items supplied in one line of user input (comma-separated).\n",
        "items = input (\"Enter at least 4 items supplied (comma-separated):\")\n",
        "items = items.split(',')\n",
        "for item in items:\n",
        "  shopping_list.append(item.strip())\n",
        "\n",
        "# 2. Convert the list to a *tuple* called immutable_basket.\n",
        "immutable_basket = tuple(shopping_list)\n",
        "\n",
        "# 3. Print the third item using tuple indexing.\n",
        "print(f'the third item: {immutable_basket[2]}')\n"
      ]
    },
    {
      "cell_type": "markdown",
      "metadata": {
        "id": "byKd8SFK9w2y"
      },
      "source": [
        "### Task 2 — Word Stats"
      ]
    },
    {
      "cell_type": "code",
      "execution_count": 34,
      "metadata": {
        "colab": {
          "base_uri": "https://localhost:8080/"
        },
        "id": "4rLrxkPj90p3",
        "outputId": "1656a1f0-6673-40b8-801f-1fd9216eb871"
      },
      "outputs": [
        {
          "name": "stdout",
          "output_type": "stream",
          "text": [
            "Enter at least a sentence supplied: My name is Leila. I love you very very very much. What about you? You love me (Leila).\n",
            "unique_words:\n",
            " {'much', 'about', 'leila', 'is', 'name', 'love', 'i', 'very', 'me', 'you', 'what', 'my'}\n",
            "unique_words:\n",
            " {'my': 1, 'name': 1, 'is': 1, 'leila': 2, 'i': 1, 'love': 2, 'you': 3, 'very': 3, 'much': 1, 'what': 1, 'about': 1, 'me': 1}\n"
          ]
        }
      ],
      "source": [
        "sample = \"to be or not to be that is the question\"\n",
        "\n",
        "# 1. Build a set `unique_words` containing every distinct word.\n",
        "# 2. Build a dict `word_counts` mapping each word to the number of times it appears.\n",
        "#    (Hint: .split() + a simple loop)\n",
        "# 3. Print the two structures and explain (in a comment) their main difference.\n",
        "# TODO: your code here\n",
        "\n",
        "# 1. Build a set `unique_words` containing every distinct word.\n",
        "words = input (\"Enter at least a sentence supplied: \")\n",
        "words = words.split()\n",
        "words = [word.strip(\".,!?()[]{}\\\"'\").lower() for word in words]\n",
        "\n",
        "unique_words = set(words)\n",
        "\n",
        "# 2. Build a dict `word_counts` mapping each word to the number of times it appears.\n",
        "#    (Hint: .split() + a simple loop)\n",
        "word_counts = {}\n",
        "for word in words:\n",
        "  if word not in word_counts:\n",
        "     word_counts[word] = 1\n",
        "  else:\n",
        "     word_counts[word] += 1\n",
        "\n",
        "# 3. Print the two structures and explain (in a comment) their main difference.\n",
        "\n",
        "print('unique_words:\\n', unique_words)\n",
        "\n",
        "\n",
        "print(\"unique_words:\\n\", word_counts)"
      ]
    },
    {
      "cell_type": "markdown",
      "metadata": {
        "id": "gbGMbtLf94M4"
      },
      "source": [
        "## 3. Functions 🔧\n",
        "**Quick-start notes**\n",
        "\n",
        "* Define with `def`, return with `return`.\n",
        "\n",
        "* Parameters can have default values.\n",
        "\n",
        "* Docstrings (`\"\"\" … \"\"\"`) document behaviour."
      ]
    },
    {
      "cell_type": "markdown",
      "metadata": {
        "id": "QOsToPh2-AnZ"
      },
      "source": [
        "### Task 1 — Prime Tester"
      ]
    },
    {
      "cell_type": "code",
      "execution_count": 38,
      "metadata": {
        "colab": {
          "base_uri": "https://localhost:8080/"
        },
        "id": "_pCU2mIH-DAi",
        "outputId": "09a964c5-3553-413d-af36-58b443227e5b"
      },
      "outputs": [
        {
          "name": "stdout",
          "output_type": "stream",
          "text": [
            "[2, 3, 5, 7]\n"
          ]
        }
      ],
      "source": [
        "def is_prime(n: int) -> bool:\n",
        "    \"\"\"\n",
        "    Return True if n is a prime number, else False.\n",
        "    0 and 1 are *not* prime.\n",
        "    \"\"\"\n",
        "    # TODO: replace pass with your implementation\n",
        "    if n<2:\n",
        "      return False\n",
        "    else:\n",
        "      for i in range(2,int(n**0.5)+1):\n",
        "        if not n%i:\n",
        "          return False\n",
        "    return True\n",
        "\n",
        "# Quick self-check\n",
        "print([x for x in range(10) if is_prime(x)])   # Expected: [2, 3, 5, 7]\n"
      ]
    },
    {
      "cell_type": "markdown",
      "metadata": {
        "id": "TBGXIzVV-E5u"
      },
      "source": [
        "### Task 2 — Repeater Greeter"
      ]
    },
    {
      "cell_type": "code",
      "execution_count": 42,
      "metadata": {
        "colab": {
          "base_uri": "https://localhost:8080/"
        },
        "id": "ycvsNyqh-GRM",
        "outputId": "abf7a250-150d-4400-f8dc-1d753bb4f1fe"
      },
      "outputs": [
        {
          "name": "stdout",
          "output_type": "stream",
          "text": [
            "Alice \n",
            "Bob Bob Bob \n"
          ]
        }
      ],
      "source": [
        "def greet(name: str, times: int = 1) -> None:\n",
        "    \"\"\"Print `name`, capitalised, exactly `times` times on one line.\"\"\"\n",
        "    # TODO: your code here\n",
        "    print((name.capitalize() + ' ')*times)\n",
        "\n",
        "greet(\"alice\")          # Alice\n",
        "greet(\"bob\", times=3)   # Bob Bob Bob\n"
      ]
    },
    {
      "cell_type": "markdown",
      "metadata": {
        "id": "y7K-GaBC-ImE"
      },
      "source": [
        "## 4. Classes 🏗️\n",
        "**Quick-start notes**\n",
        "\n",
        "* Create with class Name:\n",
        "\n",
        "* Special method __init__ runs on construction.\n",
        "\n",
        "* self refers to the instance; attributes live on self."
      ]
    },
    {
      "cell_type": "markdown",
      "metadata": {
        "id": "NgKjsy8A-N3l"
      },
      "source": [
        "### Task 1 — Simple Counter"
      ]
    },
    {
      "cell_type": "code",
      "execution_count": null,
      "metadata": {
        "id": "dPFvr_fe-OPR"
      },
      "outputs": [],
      "source": [
        "class Counter:\n",
        "    \"\"\"Counts how many times `increment` is called.\"\"\"\n",
        "    # TODO:\n",
        "    # 1. In __init__, store an internal count variable starting at 0.\n",
        "    # 2. Method increment(step: int = 1) adds `step` to the count.\n",
        "    # 3. Method value() returns the current count.\n",
        "\n",
        "    # In __init__, store an internal count variable starting at 0.\n",
        "    def __init__(self):\n",
        "        self._count = 0\n",
        "\n",
        "    # Method increment(step: int = 1) adds `step` to the count.\n",
        "    def increment(self,step:int=1):\n",
        "        self._count += step\n",
        "\n",
        "    # Method value() returns the current count.\n",
        "    def value(self):\n",
        "        return self._count \n",
        "\n",
        "c = Counter()\n",
        "for _ in range(5):\n",
        "    c.increment()\n",
        "print(c.value())   # Expected: 5\n"
      ]
    },
    {
      "cell_type": "markdown",
      "metadata": {
        "id": "U99aupan-Q8u"
      },
      "source": [
        "### Task 2 — 2-D Point with Distance"
      ]
    },
    {
      "cell_type": "code",
      "execution_count": null,
      "metadata": {
        "id": "OVh3GEzH-T0w"
      },
      "outputs": [],
      "source": [
        "import math\n",
        "\n",
        "class Point:\n",
        "    \"\"\"\n",
        "    A 2-D point supporting distance calculation.\n",
        "    Usage:\n",
        "        p = Point(3, 4)\n",
        "        q = Point(0, 0)\n",
        "        print(p.distance_to(q))  # 5.0\n",
        "    \"\"\"\n",
        "    # TODO:\n",
        "    # 1. Store x and y as attributes.\n",
        "    # 2. Implement distance_to(other) using the Euclidean formula.\n",
        "\n",
        "\n",
        "# Smoke test\n",
        "p, q = Point(3, 4), Point(0, 0)\n",
        "assert round(p.distance_to(q), 1) == 5.0\n"
      ]
    }
  ],
  "metadata": {
    "colab": {
      "provenance": []
    },
    "kernelspec": {
      "display_name": "Python 3",
      "name": "python3"
    },
    "language_info": {
      "name": "python"
    }
  },
  "nbformat": 4,
  "nbformat_minor": 0
}
